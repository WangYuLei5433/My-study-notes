{
 "cells": [
  {
   "cell_type": "code",
   "execution_count": 21,
   "metadata": {},
   "outputs": [
    {
     "name": "stdout",
     "output_type": "stream",
     "text": [
      "喝高乐高\n",
      "身体棒\n",
      "长高高\n",
      "喝高乐高\n",
      "身体棒\n",
      "长高高\n"
     ]
    }
   ],
   "source": [
    "def bigdick(func):\n",
    "    def wrap():\n",
    "        print('喝高乐高')\n",
    "        func()\n",
    "        print('长高高')\n",
    "    return wrap\n",
    "\n",
    "def printchar():\n",
    "    print('身体棒')\n",
    "\n",
    "biggdick=bigdick(printchar)\n",
    "biggdick()\n",
    "biggdick()\n"
   ]
  },
  {
   "cell_type": "code",
   "execution_count": null,
   "metadata": {},
   "outputs": [],
   "source": [
    "#将排序数据量x，运行时间y，代入直角坐标系。并对散点进行函数拟合。\n",
    "def ceshifunction(func,x):\n",
    "    ceshi=time_statistics(func,x)\n",
    "    z1 = np.polyfit(*zip(*ceshi),2) # 用2次多项式拟合\n",
    "    p1 = np.poly1d(z1)\n",
    "    y=p1(ceshi[:,0])\n",
    "    print(p1)\n",
    "    plt.scatter(*zip(*ceshi)) \n",
    "    plt.plot(ceshi[:,0],y,color=[1.0,0.0,0.0])\n",
    "    plt.show()\n",
    "\n",
    "ceshifunction(quickSort,50000)"
   ]
  },
  {
   "cell_type": "code",
   "execution_count": null,
   "metadata": {},
   "outputs": [],
   "source": [
    "print(\"快速排序 O(nlog(n))\")\n",
    "ceshifunction(quickSort,nlogn_fit,20000)\n",
    "\n",
    "print(\"归并排序 O(nlog(n))\") \n",
    "ceshifunction(mergeSort,nlogn_fit,20000)\n",
    "\n",
    "print(\"计数排序 O(n+k)\")\n",
    "ceshifunction(count_sort,n_fit,50000)\n",
    "\n",
    "\n",
    "print(\"插入排序 O(n^2)\")\n",
    "x1,y1,ceshi1=ceshifunction(insertionSort,nn_fit,8000,'b')\n",
    "print(\"选择排序O(n^2)\")\n",
    "x2,y2=ceshifunction(pai_xu,nn_fit,8000,'g')\n",
    "print(\"冒泡排序 O(n^2)\")\n",
    "x3,y3=ceshifunction(bubbleSort,nn_fit,8000,'r')"
   ]
  }
 ],
 "metadata": {
  "interpreter": {
   "hash": "da9ccaf30b8f76f6ba9387769e0a5b8166bb243c2c98e845e33e1556a317dac0"
  },
  "kernelspec": {
   "display_name": "Python 3.9.5 64-bit ('base': conda)",
   "name": "python3"
  },
  "language_info": {
   "codemirror_mode": {
    "name": "ipython",
    "version": 3
   },
   "file_extension": ".py",
   "mimetype": "text/x-python",
   "name": "python",
   "nbconvert_exporter": "python",
   "pygments_lexer": "ipython3",
   "version": "3.9.5"
  },
  "orig_nbformat": 4
 },
 "nbformat": 4,
 "nbformat_minor": 2
}
