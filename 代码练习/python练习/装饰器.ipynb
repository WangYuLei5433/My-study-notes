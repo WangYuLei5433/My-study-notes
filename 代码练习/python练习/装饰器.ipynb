{
 "cells": [
  {
   "cell_type": "code",
   "execution_count": 21,
   "metadata": {},
   "outputs": [
    {
     "name": "stdout",
     "output_type": "stream",
     "text": [
      "喝高乐高\n",
      "身体棒\n",
      "长高高\n",
      "喝高乐高\n",
      "身体棒\n",
      "长高高\n"
     ]
    }
   ],
   "source": [
    "def bigdick(func):\n",
    "    def wrap():\n",
    "        print('喝高乐高')\n",
    "        func()\n",
    "        print('长高高')\n",
    "    return wrap\n",
    "\n",
    "def printchar():\n",
    "    print('身体棒')\n",
    "\n",
    "biggdick=bigdick(printchar)\n",
    "biggdick()\n",
    "biggdick()\n"
   ]
  },
  {
   "cell_type": "code",
   "execution_count": null,
   "metadata": {},
   "outputs": [],
   "source": [
    "#将排序数据量x，运行时间y，代入直角坐标系。并对散点进行函数拟合。\n",
    "def ceshifunction(func,x):\n",
    "    ceshi=time_statistics(func,x)\n",
    "    z1 = np.polyfit(*zip(*ceshi),2) # 用2次多项式拟合\n",
    "    p1 = np.poly1d(z1)\n",
    "    y=p1(ceshi[:,0])\n",
    "    print(p1)\n",
    "    plt.scatter(*zip(*ceshi)) \n",
    "    plt.plot(ceshi[:,0],y,color=[1.0,0.0,0.0])\n",
    "    plt.show()\n",
    "\n",
    "ceshifunction(quickSort,50000)"
   ]
  }
 ],
 "metadata": {
  "interpreter": {
   "hash": "da9ccaf30b8f76f6ba9387769e0a5b8166bb243c2c98e845e33e1556a317dac0"
  },
  "kernelspec": {
   "display_name": "Python 3.9.5 64-bit ('base': conda)",
   "name": "python3"
  },
  "language_info": {
   "codemirror_mode": {
    "name": "ipython",
    "version": 3
   },
   "file_extension": ".py",
   "mimetype": "text/x-python",
   "name": "python",
   "nbconvert_exporter": "python",
   "pygments_lexer": "ipython3",
   "version": "3.9.5"
  },
  "orig_nbformat": 4
 },
 "nbformat": 4,
 "nbformat_minor": 2
}
