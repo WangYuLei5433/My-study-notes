{
 "cells": [
  {
   "cell_type": "code",
   "execution_count": 62,
   "metadata": {},
   "outputs": [
    {
     "data": {
      "image/png": "[encoded data removed]",
      "text/plain": [
       "<Figure size 432x288 with 1 Axes>"
      ]
     },
     "metadata": {
      "needs_background": "light"
     },
     "output_type": "display_data"
    }
   ],
   "source": [
    "import random,time\n",
    "import numpy as np\n",
    "import matplotlib.pyplot\n",
    "#选择排序\n",
    "def pai_xu(list_date):\n",
    "    for i in range(len(list_date)): \n",
    "        Mini_mum = i \n",
    "        for j in range(i+1, len(list_date)): \n",
    "            if list_date[ Mini_mum] >list_date[j]: \n",
    "                 Mini_mum= j\n",
    "\n",
    "        list_date[i], list_date[Mini_mum] = list_date[Mini_mum], list_date[i] \n",
    "\n",
    "#将生成长度为quantity的一组随机数\n",
    "def test(left,right,quantity):\n",
    "    text_list=list(random.sample(range(left,right),quantity))\n",
    "    return text_list\n",
    "    \n",
    "#计算排序算法的时间\n",
    "def timerun(text):\n",
    "    start = time.time()\n",
    "    pai_xu(text)\n",
    "    end=time.time()\n",
    "    return(end-start)\n",
    "#统计算法运行时间。将计算结果x，y保存在数字组里\n",
    "def time_statistics(x):\n",
    "    timedate=list()\n",
    "    for i in range(2000,x+1,500):\n",
    "        textlist=test(1,i+2,i)\n",
    "        stat=timerun(textlist)\n",
    "        timedate.append([i,stat])\n",
    "    return timedate\n",
    "\n",
    "ceshi=time_statistics(10000)\n",
    "\n",
    "matplotlib.pyplot.scatter(*zip(*ceshi)) \n",
    "matplotlib.pyplot.show()\n"
   ]
  },
  {
   "cell_type": "code",
   "execution_count": null,
   "metadata": {},
   "outputs": [],
   "source": [
    "parameter =matplotlib.pyplot.po"
   ]
  }
 ],
 "metadata": {
  "interpreter": {
   "hash": "da9ccaf30b8f76f6ba9387769e0a5b8166bb243c2c98e845e33e1556a317dac0"
  },
  "kernelspec": {
   "display_name": "Python 3.9.5 64-bit ('base': conda)",
   "language": "python",
   "name": "python3"
  },
  "language_info": {
   "codemirror_mode": {
    "name": "ipython",
    "version": 3
   },
   "file_extension": ".py",
   "mimetype": "text/x-python",
   "name": "python",
   "nbconvert_exporter": "python",
   "pygments_lexer": "ipython3",
   "version": "3.9.5"
  },
  "orig_nbformat": 4
 },
 "nbformat": 4,
 "nbformat_minor": 2
}
