{
 "cells": [
  {
   "cell_type": "code",
   "execution_count": 16,
   "metadata": {},
   "outputs": [
    {
     "name": "stdout",
     "output_type": "stream",
     "text": [
      "           2\n",
      "6.975e-11 x - 8.211e-07 x + 0.1229\n"
     ]
    },
    {
     "data": {
      "image/png": "[encoded data removed]",
      "text/plain": [
       "<Figure size 432x288 with 1 Axes>"
      ]
     },
     "metadata": {
      "needs_background": "light"
     },
     "output_type": "display_data"
    }
   ],
   "source": [
    "import random,time\n",
    "import numpy as np\n",
    "import matplotlib.pyplot as plt\n",
    "#快速排序\n",
    "def quickSort(arr, left=None, right=None):\n",
    "    left = 0 if not isinstance(left,(int, float)) else left\n",
    "    right = len(arr)-1 if not isinstance(right,(int, float)) else right\n",
    "    if left < right:\n",
    "        partitionIndex = partition(arr, left, right)\n",
    "        quickSort(arr, left, partitionIndex-1)\n",
    "        quickSort(arr, partitionIndex+1, right)\n",
    "    return arr\n",
    "\n",
    "def partition(arr, left, right):\n",
    "    pivot = left\n",
    "    index = pivot+1\n",
    "    i = index\n",
    "    while  i <= right:\n",
    "        if arr[i] < arr[pivot]:\n",
    "            swap(arr, i, index)\n",
    "            index+=1\n",
    "        i+=1\n",
    "    swap(arr,pivot,index-1)\n",
    "    return index-1\n",
    "\n",
    "def swap(arr, i, j):\n",
    "    arr[i], arr[j] = arr[j], arr[i]\n",
    "#冒泡排序\n",
    "def bubbleSort(arr):\n",
    "    for i in range(1, len(arr)):\n",
    "        for j in range(0, len(arr)-i):\n",
    "            if arr[j] > arr[j+1]:\n",
    "                arr[j], arr[j + 1] = arr[j + 1], arr[j]\n",
    "\n",
    "#选择排序\n",
    "def pai_xu(list_date):\n",
    "    for i in range(len(list_date)): \n",
    "        Mini_mum = i \n",
    "        for j in range(i+1, len(list_date)): \n",
    "            if list_date[ Mini_mum] >list_date[j]: \n",
    "                 Mini_mum= j\n",
    "\n",
    "        list_date[i], list_date[Mini_mum] = list_date[Mini_mum], list_date[i] \n",
    "\n",
    "#将生成长度为quantity的一组随机数\n",
    "def test(left,right,quantity):\n",
    "    text_list=list(random.sample(range(left,right),quantity))\n",
    "    return text_list\n",
    "    \n",
    "#计算排序算法的时间\n",
    "def timerun(func,text):\n",
    "    start = time.time()\n",
    "    func(text)\n",
    "    end=time.time()\n",
    "    return(end-start)\n",
    "\n",
    "#统计算法运行时间。将计算结果x，y保存在数字组里\n",
    "def time_statistics(func,x):\n",
    "    timedate=list()\n",
    "    for i in range(30000,x+1,500):\n",
    "        textlist=test(1,i+2,i)\n",
    "        stat=timerun(func,textlist)\n",
    "        timedate.append([i,stat])\n",
    "    return np.array(timedate)\n",
    "\n",
    "#拟合函数，将散点拟合成曲线\n",
    "def polyfit(date):\n",
    "    z1 = np.polyfit(*zip(*date),2) # 用2次多项式拟合\n",
    "    p1 = np.poly1d(z1)\n",
    "\n",
    "\n",
    "#将排序数据量x，运行时间y，代入直角坐标系。并对散点进行函数拟合。\n",
    "def ceshifunction(func,x):\n",
    "    ceshi=time_statistics(func,x)\n",
    "    z1 = np.polyfit(*zip(*ceshi),2) # 用2次多项式拟合\n",
    "    p1 = np.poly1d(z1)\n",
    "    y=p1(ceshi[:,0])\n",
    "    print(p1)\n",
    "    plt.scatter(*zip(*ceshi)) \n",
    "    plt.plot(ceshi[:,0],y,color=[1.0,0.0,0.0])\n",
    "    plt.show()\n",
    "\n",
    "ceshifunction(quickSort,50000)\n",
    "\n",
    "\n"
   ]
  },
  {
   "cell_type": "code",
   "execution_count": null,
   "metadata": {},
   "outputs": [],
   "source": []
  }
 ],
 "metadata": {
  "interpreter": {
   "hash": "da9ccaf30b8f76f6ba9387769e0a5b8166bb243c2c98e845e33e1556a317dac0"
  },
  "kernelspec": {
   "display_name": "Python 3.9.5 64-bit ('base': conda)",
   "language": "python",
   "name": "python3"
  },
  "language_info": {
   "codemirror_mode": {
    "name": "ipython",
    "version": 3
   },
   "file_extension": ".py",
   "mimetype": "text/x-python",
   "name": "python",
   "nbconvert_exporter": "python",
   "pygments_lexer": "ipython3",
   "version": "3.9.5"
  },
  "orig_nbformat": 4
 },
 "nbformat": 4,
 "nbformat_minor": 2
}
